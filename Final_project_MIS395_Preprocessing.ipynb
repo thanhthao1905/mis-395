{
  "nbformat": 4,
  "nbformat_minor": 0,
  "metadata": {
    "colab": {
      "provenance": []
    },
    "kernelspec": {
      "name": "python3",
      "display_name": "Python 3"
    },
    "language_info": {
      "name": "python"
    }
  },
  "cells": [
    {
      "cell_type": "code",
      "execution_count": null,
      "metadata": {
        "colab": {
          "base_uri": "https://localhost:8080/"
        },
        "id": "zzlOLJrPeRgx",
        "outputId": "7778329c-5613-447e-cd8b-d38272ff9988"
      },
      "outputs": [
        {
          "output_type": "stream",
          "name": "stdout",
          "text": [
            "      Id  Year_Birth   Education Marital_Status   Income  Kidhome  Teenhome  \\\n",
            "0   1826        1970  Graduation       Divorced  84835.0        0         0   \n",
            "1      1        1961  Graduation         Single  57091.0        0         0   \n",
            "2  10476        1958  Graduation        Married  67267.0        0         1   \n",
            "3   1386        1967  Graduation       Together  32474.0        1         1   \n",
            "4   5371        1989  Graduation         Single  21474.0        1         0   \n",
            "\n",
            "  Dt_Customer  Recency  MntWines  ...  MntFishProducts  MntSweetProducts  \\\n",
            "0   6/16/2014        0       189  ...              111               189   \n",
            "1   6/15/2014        0       464  ...                7                 0   \n",
            "2   5/13/2014        0       134  ...               15                 2   \n",
            "3   11/5/2014        0        10  ...                0                 0   \n",
            "4    8/4/2014        0         6  ...               11                 0   \n",
            "\n",
            "   MntGoldProds  NumDealsPurchases  NumWebPurchases  NumCatalogPurchases  \\\n",
            "0           218                  1                4                    4   \n",
            "1            37                  1                7                    3   \n",
            "2            30                  1                3                    2   \n",
            "3             0                  1                1                    0   \n",
            "4            34                  2                3                    1   \n",
            "\n",
            "   NumStorePurchases  NumWebVisitsMonth  Response  Complain  \n",
            "0                  6                  1         1         0  \n",
            "1                  7                  5         1         0  \n",
            "2                  5                  2         0         0  \n",
            "3                  2                  7         0         0  \n",
            "4                  2                  7         1         0  \n",
            "\n",
            "[5 rows x 22 columns]\n"
          ]
        }
      ],
      "source": [
        "import pandas as pd\n",
        "import numpy as np\n",
        "import matplotlib.pyplot as plt\n",
        "import seaborn as sns\n",
        "\n",
        "df = pd.read_csv('/content/superstore_data.csv')\n",
        "print(df.head())"
      ]
    },
    {
      "cell_type": "code",
      "source": [
        "print(df.info())\n",
        "print(df.describe())"
      ],
      "metadata": {
        "colab": {
          "base_uri": "https://localhost:8080/"
        },
        "id": "KhVh1tc7hkcO",
        "outputId": "a375b8df-bb9d-4dd8-dc4c-3c2e3396066f"
      },
      "execution_count": null,
      "outputs": [
        {
          "output_type": "stream",
          "name": "stdout",
          "text": [
            "<class 'pandas.core.frame.DataFrame'>\n",
            "RangeIndex: 2240 entries, 0 to 2239\n",
            "Data columns (total 22 columns):\n",
            " #   Column               Non-Null Count  Dtype  \n",
            "---  ------               --------------  -----  \n",
            " 0   Id                   2240 non-null   int64  \n",
            " 1   Year_Birth           2240 non-null   int64  \n",
            " 2   Education            2240 non-null   object \n",
            " 3   Marital_Status       2240 non-null   object \n",
            " 4   Income               2216 non-null   float64\n",
            " 5   Kidhome              2240 non-null   int64  \n",
            " 6   Teenhome             2240 non-null   int64  \n",
            " 7   Dt_Customer          2240 non-null   object \n",
            " 8   Recency              2240 non-null   int64  \n",
            " 9   MntWines             2240 non-null   int64  \n",
            " 10  MntFruits            2240 non-null   int64  \n",
            " 11  MntMeatProducts      2240 non-null   int64  \n",
            " 12  MntFishProducts      2240 non-null   int64  \n",
            " 13  MntSweetProducts     2240 non-null   int64  \n",
            " 14  MntGoldProds         2240 non-null   int64  \n",
            " 15  NumDealsPurchases    2240 non-null   int64  \n",
            " 16  NumWebPurchases      2240 non-null   int64  \n",
            " 17  NumCatalogPurchases  2240 non-null   int64  \n",
            " 18  NumStorePurchases    2240 non-null   int64  \n",
            " 19  NumWebVisitsMonth    2240 non-null   int64  \n",
            " 20  Response             2240 non-null   int64  \n",
            " 21  Complain             2240 non-null   int64  \n",
            "dtypes: float64(1), int64(18), object(3)\n",
            "memory usage: 385.1+ KB\n",
            "None\n",
            "                 Id   Year_Birth         Income      Kidhome     Teenhome  \\\n",
            "count   2240.000000  2240.000000    2216.000000  2240.000000  2240.000000   \n",
            "mean    5592.159821  1968.805804   52247.251354     0.444196     0.506250   \n",
            "std     3246.662198    11.984069   25173.076661     0.538398     0.544538   \n",
            "min        0.000000  1893.000000    1730.000000     0.000000     0.000000   \n",
            "25%     2828.250000  1959.000000   35303.000000     0.000000     0.000000   \n",
            "50%     5458.500000  1970.000000   51381.500000     0.000000     0.000000   \n",
            "75%     8427.750000  1977.000000   68522.000000     1.000000     1.000000   \n",
            "max    11191.000000  1996.000000  666666.000000     2.000000     2.000000   \n",
            "\n",
            "           Recency     MntWines    MntFruits  MntMeatProducts  \\\n",
            "count  2240.000000  2240.000000  2240.000000      2240.000000   \n",
            "mean     49.109375   303.935714    26.302232       166.950000   \n",
            "std      28.962453   336.597393    39.773434       225.715373   \n",
            "min       0.000000     0.000000     0.000000         0.000000   \n",
            "25%      24.000000    23.750000     1.000000        16.000000   \n",
            "50%      49.000000   173.500000     8.000000        67.000000   \n",
            "75%      74.000000   504.250000    33.000000       232.000000   \n",
            "max      99.000000  1493.000000   199.000000      1725.000000   \n",
            "\n",
            "       MntFishProducts  MntSweetProducts  MntGoldProds  NumDealsPurchases  \\\n",
            "count      2240.000000       2240.000000   2240.000000        2240.000000   \n",
            "mean         37.525446         27.062946     44.021875           2.325000   \n",
            "std          54.628979         41.280498     52.167439           1.932238   \n",
            "min           0.000000          0.000000      0.000000           0.000000   \n",
            "25%           3.000000          1.000000      9.000000           1.000000   \n",
            "50%          12.000000          8.000000     24.000000           2.000000   \n",
            "75%          50.000000         33.000000     56.000000           3.000000   \n",
            "max         259.000000        263.000000    362.000000          15.000000   \n",
            "\n",
            "       NumWebPurchases  NumCatalogPurchases  NumStorePurchases  \\\n",
            "count      2240.000000          2240.000000        2240.000000   \n",
            "mean          4.084821             2.662054           5.790179   \n",
            "std           2.778714             2.923101           3.250958   \n",
            "min           0.000000             0.000000           0.000000   \n",
            "25%           2.000000             0.000000           3.000000   \n",
            "50%           4.000000             2.000000           5.000000   \n",
            "75%           6.000000             4.000000           8.000000   \n",
            "max          27.000000            28.000000          13.000000   \n",
            "\n",
            "       NumWebVisitsMonth     Response     Complain  \n",
            "count        2240.000000  2240.000000  2240.000000  \n",
            "mean            5.316518     0.149107     0.009375  \n",
            "std             2.426645     0.356274     0.096391  \n",
            "min             0.000000     0.000000     0.000000  \n",
            "25%             3.000000     0.000000     0.000000  \n",
            "50%             6.000000     0.000000     0.000000  \n",
            "75%             7.000000     0.000000     0.000000  \n",
            "max            20.000000     1.000000     1.000000  \n"
          ]
        }
      ]
    },
    {
      "cell_type": "code",
      "source": [
        "df['Income'].fillna(df['Income'].median(), inplace=True)"
      ],
      "metadata": {
        "colab": {
          "base_uri": "https://localhost:8080/"
        },
        "id": "Z-D38nSxjjQW",
        "outputId": "a2a8395e-93d9-4dd3-e2b7-9cf0ee52b3a7"
      },
      "execution_count": null,
      "outputs": [
        {
          "output_type": "stream",
          "name": "stderr",
          "text": [
            "/tmp/ipython-input-1959487941.py:1: FutureWarning: A value is trying to be set on a copy of a DataFrame or Series through chained assignment using an inplace method.\n",
            "The behavior will change in pandas 3.0. This inplace method will never work because the intermediate object on which we are setting values always behaves as a copy.\n",
            "\n",
            "For example, when doing 'df[col].method(value, inplace=True)', try using 'df.method({col: value}, inplace=True)' or df[col] = df[col].method(value) instead, to perform the operation inplace on the original object.\n",
            "\n",
            "\n",
            "  df['Income'].fillna(df['Income'].median(), inplace=True)\n"
          ]
        }
      ]
    },
    {
      "cell_type": "code",
      "source": [
        "# Chuyển đổi ngày\n",
        "df['Dt_Customer'] = pd.to_datetime(df['Dt_Customer'], errors='coerce')\n",
        "\n",
        "# Tạo cột tuổi\n",
        "df['Age'] = 2025 - df['Year_Birth']\n",
        "\n",
        "# Tạo cột tổng chi tiêu\n",
        "spending_cols = ['MntWines', 'MntFruits', 'MntMeatProducts',\n",
        "                 'MntFishProducts', 'MntSweetProducts', 'MntGoldProds']\n",
        "df['Total_Spending'] = df[spending_cols].sum(axis=1)\n"
      ],
      "metadata": {
        "id": "TDgf4NZuky2U"
      },
      "execution_count": null,
      "outputs": []
    },
    {
      "cell_type": "code",
      "source": [
        "from sklearn.preprocessing import MinMaxScaler\n",
        "\n",
        "scaler = MinMaxScaler()\n",
        "df[['Income_Norm', 'Total_Spending_Norm']] = scaler.fit_transform(df[['Income', 'Total_Spending']])\n"
      ],
      "metadata": {
        "id": "1SidFrBlk2xr"
      },
      "execution_count": null,
      "outputs": []
    },
    {
      "cell_type": "code",
      "source": [
        "# Loại bỏ khách quá già\n",
        "df = df[df['Year_Birth'] >= 1920]\n",
        "\n",
        "# Gộp nhóm Marital_Status\n",
        "df['Marital_Status'] = df['Marital_Status'].replace(['YOLO', 'Absurd'], 'Other')\n",
        "\n",
        "# Giữ lại khách hàng có tuổi nhỏ hơn 100\n",
        "df = df[df['Age'] < 100]"
      ],
      "metadata": {
        "id": "Zf1BG8ctyS1n"
      },
      "execution_count": 21,
      "outputs": []
    },
    {
      "cell_type": "code",
      "source": [
        "df.to_csv('superstore_cleaned.csv', index=False)\n",
        "files.download('superstore_cleaned.csv')"
      ],
      "metadata": {
        "colab": {
          "base_uri": "https://localhost:8080/",
          "height": 17
        },
        "id": "5FHSDQX3yN6J",
        "outputId": "1fc7e9b6-1349-4bc0-b51e-ec89d751f789"
      },
      "execution_count": 22,
      "outputs": [
        {
          "output_type": "display_data",
          "data": {
            "text/plain": [
              "<IPython.core.display.Javascript object>"
            ],
            "application/javascript": [
              "\n",
              "    async function download(id, filename, size) {\n",
              "      if (!google.colab.kernel.accessAllowed) {\n",
              "        return;\n",
              "      }\n",
              "      const div = document.createElement('div');\n",
              "      const label = document.createElement('label');\n",
              "      label.textContent = `Downloading \"${filename}\": `;\n",
              "      div.appendChild(label);\n",
              "      const progress = document.createElement('progress');\n",
              "      progress.max = size;\n",
              "      div.appendChild(progress);\n",
              "      document.body.appendChild(div);\n",
              "\n",
              "      const buffers = [];\n",
              "      let downloaded = 0;\n",
              "\n",
              "      const channel = await google.colab.kernel.comms.open(id);\n",
              "      // Send a message to notify the kernel that we're ready.\n",
              "      channel.send({})\n",
              "\n",
              "      for await (const message of channel.messages) {\n",
              "        // Send a message to notify the kernel that we're ready.\n",
              "        channel.send({})\n",
              "        if (message.buffers) {\n",
              "          for (const buffer of message.buffers) {\n",
              "            buffers.push(buffer);\n",
              "            downloaded += buffer.byteLength;\n",
              "            progress.value = downloaded;\n",
              "          }\n",
              "        }\n",
              "      }\n",
              "      const blob = new Blob(buffers, {type: 'application/binary'});\n",
              "      const a = document.createElement('a');\n",
              "      a.href = window.URL.createObjectURL(blob);\n",
              "      a.download = filename;\n",
              "      div.appendChild(a);\n",
              "      a.click();\n",
              "      div.remove();\n",
              "    }\n",
              "  "
            ]
          },
          "metadata": {}
        },
        {
          "output_type": "display_data",
          "data": {
            "text/plain": [
              "<IPython.core.display.Javascript object>"
            ],
            "application/javascript": [
              "download(\"download_a68086d9-46b8-425f-ae2a-7631ae7a2db0\", \"superstore_cleaned.csv\", 293011)"
            ]
          },
          "metadata": {}
        }
      ]
    },
    {
      "cell_type": "code",
      "source": [],
      "metadata": {
        "id": "OIZRMeHMyRpV"
      },
      "execution_count": null,
      "outputs": []
    }
  ]
}